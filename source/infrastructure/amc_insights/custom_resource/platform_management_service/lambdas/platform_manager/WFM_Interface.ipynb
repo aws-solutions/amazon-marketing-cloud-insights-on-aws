{
 "cells": [
  {
   "attachments": {},
   "cell_type": "markdown",
   "id": "daccdec6",
   "metadata": {},
   "source": [
    "# Workflow Management Service"
   ]
  },
  {
   "attachments": {},
   "cell_type": "markdown",
   "id": "bba31683",
   "metadata": {},
   "source": [
    "### Set up a customer in the TPS Interface before using"
   ]
  },
  {
   "cell_type": "markdown",
   "id": "cb8d6abb",
   "metadata": {},
   "source": [
    "#### -----------------------"
   ]
  },
  {
   "attachments": {},
   "cell_type": "markdown",
   "id": "d837971a",
   "metadata": {},
   "source": [
    "## Global Configs"
   ]
  },
  {
   "cell_type": "code",
   "execution_count": 14,
   "id": "89b6a781",
   "metadata": {},
   "outputs": [],
   "source": [
    "import json\n",
    "import re\n",
    "import boto3\n",
    "import os\n",
    "from dotenv import load_dotenv\n",
    "load_dotenv()\n",
    "\n",
    "invoke_workflow_lambda_name = os.environ['INVOKE_WORKFLOW_SM_NAME']\n",
    "invoke_workflow_executions_lambda_name = os.environ['INVOKE_WORKFLOW_EXECUTION_SM_NAME']\n",
    "create_workflow_schedule_lambda_name = os.environ['CREATE_WORKFLOW_SCHEDULE_NAME']\n",
    "delete_workflow_schedule_lambda_name = os.environ['DELETE_WORKFLOW_SCHEDULE_NAME']\n",
    "\n",
    "boto3_session = boto3.Session()\n",
    "lambda_client = boto3_session.client('lambda')"
   ]
  },
  {
   "cell_type": "code",
   "execution_count": null,
   "id": "c9c5868d",
   "metadata": {},
   "outputs": [],
   "source": [
    "# Customer ID you want to use for WFM\n",
    "CUSTOMER_ID = \"democustomer\""
   ]
  },
  {
   "attachments": {},
   "cell_type": "markdown",
   "id": "816360f9",
   "metadata": {},
   "source": [
    "#### -----------------------"
   ]
  },
  {
   "cell_type": "markdown",
   "id": "e5c14a06",
   "metadata": {},
   "source": [
    "# Workflow Requests"
   ]
  },
  {
   "attachments": {},
   "cell_type": "markdown",
   "id": "bafeed0a",
   "metadata": {},
   "source": [
    "### Create Workflow"
   ]
  },
  {
   "cell_type": "code",
   "execution_count": null,
   "id": "06c4b052",
   "metadata": {},
   "outputs": [],
   "source": [
    "WORKFLOW_ID = \"test-wfm-1\"\n",
    "#############################################\n",
    "create_workflow_request = {\n",
    "    \"customerId\": CUSTOMER_ID,\n",
    "    \"workflowRequest\": {\n",
    "        \"customerId\": CUSTOMER_ID,\n",
    "        \"requestType\": \"createWorkflow\",\n",
    "        \"workflowDefinition\": {\n",
    "            \"workflowId\": WORKFLOW_ID,\n",
    "            \"filteredMetricsDiscriminatorColumn\": \"filtered\",\n",
    "            \"inputParameters\": [\n",
    "                {\n",
    "                    \"columnType\": \"DIMENSION\",\n",
    "                    \"dataType\": \"STRING\",\n",
    "                    \"defaultValue\": \"None\",\n",
    "                    \"description\": \"The date and time that the report was run\",\n",
    "                    \"name\": \"report_date\"\n",
    "                }\n",
    "            ],\n",
    "            \"sqlQuery\": \"\"\"\n",
    "                SELECT\n",
    "                    CUSTOM_PARAMETER('report_date'),\n",
    "                    advertiser,\n",
    "                    campaign,\n",
    "                    (CASE \n",
    "                        WHEN SECONDS_BETWEEN (impression_dt, conversion_event_dt) <= 60 THEN '1 | < 1 MIN'\n",
    "                        WHEN SECONDS_BETWEEN (impression_dt,conversion_event_dt) <= 600 THEN '2 | 1 - 10 MIN'\n",
    "                        WHEN SECONDS_BETWEEN (impression_dt, conversion_event_dt) <= 1800 THEN '3 | 10 - 30 MIN'\n",
    "                        WHEN SECONDS_BETWEEN (impression_dt, conversion_event_dt) <= 3600 THEN '4 | 30 - 60 MIN'\n",
    "                        WHEN SECONDS_BETWEEN (impression_dt, conversion_event_dt) <= 7200 THEN '5 | 1 - 2 HRS'\n",
    "                        WHEN SECONDS_BETWEEN (impression_dt, conversion_event_dt) <= 43200 THEN '6 | 2 - 12 HRS'\n",
    "                        WHEN SECONDS_BETWEEN (impression_dt, conversion_event_dt) <= 86400 THEN '7 | 12 - 24 HRS'\n",
    "                        WHEN SECONDS_BETWEEN (impression_dt, conversion_event_dt) <= 604800 THEN '8 | 1 - 7 DAYS'\n",
    "                        ELSE '9 | 7+ DAYS'\n",
    "                    END) AS time_to_conversion,\n",
    "                    SUM(purchases) AS purchases,\n",
    "                    SUM(total_purchases) AS total_brand_purchases\n",
    "            FROM\n",
    "                amazon_attributed_events_by_conversion_time\n",
    "            GROUP BY\n",
    "                1,\n",
    "                2,\n",
    "                3,\n",
    "                4\n",
    "            \"\"\"\n",
    "        }\n",
    "    }\n",
    "}\n",
    "\n",
    "#############################################\n",
    "# Execute request\n",
    "response = lambda_client.invoke(\n",
    "    FunctionName=invoke_workflow_lambda_name,\n",
    "    InvocationType='RequestResponse',\n",
    "    LogType='Tail',\n",
    "    Payload=json.dumps(create_workflow_request).encode('UTF-8')\n",
    ")\n",
    "\n",
    "# Print output\n",
    "response_code = response.get('ResponseMetadata', {}).get('HTTPStatusCode', 0)\n",
    "if response_code in range(200, 204):\n",
    "    payload_json = json.loads(response.get('Payload').read().decode('UTF-8'))\n",
    "    payload_json = json.loads(payload_json)\n",
    "    executionArn = payload_json.get('executionArn', '')\n",
    "    sm_region, sm_acct_number, sm_name, sm_execution_id = re.match(\n",
    "        \"arn:aws:states:([^:]*-[^:]*-[0-9]+):([0-9]{12}):execution:([^:]*):([^:]*)\", executionArn).groups()\n",
    "    execution_URL = f\"https://{sm_region}.console.aws.amazon.com/states/home?region={sm_region}#/executions/details/{executionArn}\"\n",
    "    print(f\"Execution URL {execution_URL}\")"
   ]
  },
  {
   "attachments": {},
   "cell_type": "markdown",
   "id": "fdcb7c6c",
   "metadata": {},
   "source": [
    "### Update Workflow"
   ]
  },
  {
   "cell_type": "code",
   "execution_count": null,
   "id": "b08131ad",
   "metadata": {},
   "outputs": [],
   "source": [
    "WORKFLOW_ID = \"test-wfm-1\"\n",
    "#############################################\n",
    "update_workflow_request = {\n",
    "    \"customerId\": CUSTOMER_ID,\n",
    "    \"workflowRequest\": {\n",
    "        \"customerId\": CUSTOMER_ID,\n",
    "        \"requestType\": \"updateWorkflow\",\n",
    "        \"workflowDefinition\": {\n",
    "            \"workflowId\": WORKFLOW_ID,\n",
    "            \"filteredMetricsDiscriminatorColumn\": \"filtered\",\n",
    "            \"sqlQuery\": \"\"\"\n",
    "                SELECT\n",
    "                    advertiser,\n",
    "                    campaign,\n",
    "                    (CASE \n",
    "                        WHEN SECONDS_BETWEEN (impression_dt, conversion_event_dt) <= 60 THEN '1 | < 1 MIN'\n",
    "                        WHEN SECONDS_BETWEEN (impression_dt,conversion_event_dt) <= 600 THEN '2 | 1 - 10 MIN'\n",
    "                        WHEN SECONDS_BETWEEN (impression_dt, conversion_event_dt) <= 1800 THEN '3 | 10 - 30 MIN'\n",
    "                        WHEN SECONDS_BETWEEN (impression_dt, conversion_event_dt) <= 3600 THEN '4 | 30 - 60 MIN'\n",
    "                        WHEN SECONDS_BETWEEN (impression_dt, conversion_event_dt) <= 7200 THEN '5 | 1 - 2 HRS'\n",
    "                        WHEN SECONDS_BETWEEN (impression_dt, conversion_event_dt) <= 43200 THEN '6 | 2 - 12 HRS'\n",
    "                        WHEN SECONDS_BETWEEN (impression_dt, conversion_event_dt) <= 86400 THEN '7 | 12 - 24 HRS'\n",
    "                        WHEN SECONDS_BETWEEN (impression_dt, conversion_event_dt) <= 604800 THEN '8 | 1 - 7 DAYS'\n",
    "                        ELSE '9 | 7+ DAYS'\n",
    "                    END) AS time_to_conversion,\n",
    "                    SUM(purchases) AS purchases,\n",
    "                    SUM(total_purchases) AS total_brand_purchases\n",
    "            FROM\n",
    "                amazon_attributed_events_by_conversion_time\n",
    "            GROUP BY\n",
    "                1,\n",
    "                2,\n",
    "                3\n",
    "            \"\"\"\n",
    "        }\n",
    "    }\n",
    "}\n",
    "\n",
    "#############################################\n",
    "# Execute request\n",
    "response = lambda_client.invoke(\n",
    "    FunctionName=invoke_workflow_lambda_name,\n",
    "    InvocationType='RequestResponse',\n",
    "    LogType='Tail',\n",
    "    Payload=json.dumps(update_workflow_request).encode('UTF-8'),\n",
    ")\n",
    "\n",
    "# Print output\n",
    "response_code = response.get('ResponseMetadata', {}).get('HTTPStatusCode', 0)\n",
    "if response_code in range(200, 204):\n",
    "    payload_json = json.loads(response.get('Payload').read().decode('UTF-8'))\n",
    "    payload_json = json.loads(payload_json)\n",
    "    executionArn = payload_json.get('executionArn', '')\n",
    "    sm_region, sm_acct_number, sm_name, sm_execution_id = re.match(\n",
    "        \"arn:aws:states:([^:]*-[^:]*-[0-9]+):([0-9]{12}):execution:([^:]*):([^:]*)\", executionArn).groups()\n",
    "    execution_URL = f\"https://{sm_region}.console.aws.amazon.com/states/home?region={sm_region}#/executions/details/{executionArn}\"\n",
    "    print(f\"Execution URL {execution_URL}\")"
   ]
  },
  {
   "attachments": {},
   "cell_type": "markdown",
   "id": "6b6efaad",
   "metadata": {},
   "source": [
    "### Get Workflow"
   ]
  },
  {
   "cell_type": "code",
   "execution_count": null,
   "id": "44a97bbb",
   "metadata": {},
   "outputs": [],
   "source": [
    "WORKFLOW_ID = \"test-wfm-1\"\n",
    "#############################################\n",
    "get_workflow_request = {\n",
    "    \"customerId\": CUSTOMER_ID,\n",
    "    \"workflowRequest\": {\n",
    "        \"customerId\": CUSTOMER_ID,\n",
    "        \"requestType\": \"getWorkflow\",\n",
    "        \"workflowId\": WORKFLOW_ID\n",
    "    }\n",
    "}\n",
    "\n",
    "#############################################\n",
    "# Execute request\n",
    "response = lambda_client.invoke(\n",
    "    FunctionName=invoke_workflow_lambda_name,\n",
    "    InvocationType='RequestResponse',\n",
    "    LogType='Tail',\n",
    "    Payload=json.dumps(get_workflow_request).encode('UTF-8')\n",
    ")\n",
    "\n",
    "# Print output\n",
    "response_code = response.get('ResponseMetadata', {}).get('HTTPStatusCode', 0)\n",
    "if response_code in range(200, 204):\n",
    "    payload_json = json.loads(response.get('Payload').read().decode('UTF-8'))\n",
    "    payload_json = json.loads(payload_json)\n",
    "    executionArn = payload_json.get('executionArn', '')\n",
    "    sm_region, sm_acct_number, sm_name, sm_execution_id = re.match(\n",
    "        \"arn:aws:states:([^:]*-[^:]*-[0-9]+):([0-9]{12}):execution:([^:]*):([^:]*)\", executionArn).groups()\n",
    "    execution_URL = f\"https://{sm_region}.console.aws.amazon.com/states/home?region={sm_region}#/executions/details/{executionArn}\"\n",
    "    print(f\"Execution URL {execution_URL}\")\n"
   ]
  },
  {
   "attachments": {},
   "cell_type": "markdown",
   "id": "29d2e86e",
   "metadata": {},
   "source": [
    "### Delete Workflow"
   ]
  },
  {
   "cell_type": "code",
   "execution_count": null,
   "id": "53e3752c",
   "metadata": {},
   "outputs": [],
   "source": [
    "WORKFLOW_ID = \"test-wfm-1\"\n",
    "#############################################\n",
    "delete_workflow_request = {\n",
    "    \"customerId\": CUSTOMER_ID,\n",
    "    \"workflowRequest\": {\n",
    "        \"customerId\": CUSTOMER_ID,\n",
    "        \"requestType\": \"deleteWorkflow\",\n",
    "        \"workflowId\": WORKFLOW_ID\n",
    "    }\n",
    "}\n",
    "\n",
    "#############################################\n",
    "# Execute request\n",
    "response = lambda_client.invoke(\n",
    "    FunctionName=invoke_workflow_lambda_name,\n",
    "    InvocationType='RequestResponse',\n",
    "    LogType='Tail',\n",
    "    Payload=json.dumps(delete_workflow_request).encode('UTF-8')\n",
    ")\n",
    "\n",
    "# Print output\n",
    "response_code = response.get('ResponseMetadata', {}).get('HTTPStatusCode', 0)\n",
    "if response_code in range(200, 204):\n",
    "    payload_json = json.loads(response.get('Payload').read().decode('UTF-8'))\n",
    "    payload_json = json.loads(payload_json)\n",
    "    executionArn = payload_json.get('executionArn', '')\n",
    "    sm_region, sm_acct_number, sm_name, sm_execution_id = re.match(\n",
    "        \"arn:aws:states:([^:]*-[^:]*-[0-9]+):([0-9]{12}):execution:([^:]*):([^:]*)\", executionArn).groups()\n",
    "    execution_URL = f\"https://{sm_region}.console.aws.amazon.com/states/home?region={sm_region}#/executions/details/{executionArn}\"\n",
    "    print(f\"Execution URL {execution_URL}\")"
   ]
  },
  {
   "attachments": {},
   "cell_type": "markdown",
   "id": "118bfd91",
   "metadata": {},
   "source": [
    "#### -----------------------"
   ]
  },
  {
   "cell_type": "markdown",
   "id": "5acff7bd",
   "metadata": {},
   "source": [
    "# Workflow Execution Requests"
   ]
  },
  {
   "attachments": {},
   "cell_type": "markdown",
   "id": "841f3257",
   "metadata": {},
   "source": [
    "### Invoke Workflow Execution"
   ]
  },
  {
   "cell_type": "code",
   "execution_count": null,
   "id": "41e733eb",
   "metadata": {},
   "outputs": [],
   "source": [
    "WORKFLOW_ID = \"test-wfm-1\"\n",
    "#############################################\n",
    "create_execution_request = {\n",
    "    \"customerId\": CUSTOMER_ID,\n",
    "    \"requestType\": \"createExecution\",\n",
    "    \"createExecutionRequest\": {\n",
    "        \"timeWindowStart\": \"FIRSTDAYOFOFFSETMONTH(-2)\",\n",
    "        \"timeWindowEnd\": \"FIRSTDAYOFOFFSETMONTH(-1)\",\n",
    "        \"timeWindowType\": \"EXPLICIT\",\n",
    "        \"workflow_executed_date\": \"now()\",\n",
    "        \"timeWindowTimeZone\": \"America/New_York\",\n",
    "        \"workflowId\": WORKFLOW_ID,\n",
    "        \"ignoreDataGaps\": \"True\",\n",
    "        \"workflowExecutionTimeoutSeconds\": \"86400\",\n",
    "        \"parameterValues\": {\n",
    "            \"report_date\": \"now()\"\n",
    "        }\n",
    "    }\n",
    "}\n",
    "\n",
    "#############################################\n",
    "# Execute request\n",
    "response = lambda_client.invoke(\n",
    "    FunctionName=invoke_workflow_executions_lambda_name,\n",
    "    InvocationType='RequestResponse',\n",
    "    LogType='Tail',\n",
    "    Payload=json.dumps(create_execution_request).encode('UTF-8')\n",
    ")\n",
    "\n",
    "# Print output\n",
    "response_code = response.get('ResponseMetadata', {}).get('HTTPStatusCode', 0)\n",
    "if response_code in range(200, 204):\n",
    "    payload_json = json.loads(response.get('Payload').read().decode('UTF-8'))\n",
    "    payload_json = json.loads(payload_json)\n",
    "    executionArn = payload_json.get('executionArn', '')\n",
    "    sm_region, sm_acct_number, sm_name, sm_execution_id = re.match(\n",
    "        \"arn:aws:states:([^:]*-[^:]*-[0-9]+):([0-9]{12}):execution:([^:]*):([^:]*)\", executionArn).groups()\n",
    "    execution_URL = f\"https://{sm_region}.console.aws.amazon.com/states/home?region={sm_region}#/executions/details/{executionArn}\"\n",
    "    print(f\"Execution URL {execution_URL}\")"
   ]
  },
  {
   "attachments": {},
   "cell_type": "markdown",
   "id": "529da881",
   "metadata": {},
   "source": [
    "### Cancel Workflow Execution"
   ]
  },
  {
   "cell_type": "code",
   "execution_count": null,
   "id": "2f9041c3",
   "metadata": {},
   "outputs": [],
   "source": [
    "# workflowExecutionId can be found in the Workflow Executions table\n",
    "cancel_execution_request = {\n",
    "    \"customerId\": CUSTOMER_ID,\n",
    "    \"requestType\": \"cancelExecution\",\n",
    "    \"workflowExecutionId\": \"7d29a430-6a8a-4dbc-9148-04bfcb58c99c\"\n",
    "}\n",
    "\n",
    "#############################################\n",
    "# Execute request\n",
    "response = lambda_client.invoke(\n",
    "    FunctionName=invoke_workflow_executions_lambda_name,\n",
    "    InvocationType='RequestResponse',\n",
    "    LogType='Tail',\n",
    "    Payload=json.dumps(cancel_execution_request).encode('UTF-8')\n",
    ")\n",
    "\n",
    "# Print output\n",
    "response_code = response.get('ResponseMetadata', {}).get('HTTPStatusCode', 0)\n",
    "if response_code in range(200, 204):\n",
    "    payload_json = json.loads(response.get('Payload').read().decode('UTF-8'))\n",
    "    payload_json = json.loads(payload_json)\n",
    "    executionArn = payload_json.get('executionArn', '')\n",
    "    sm_region, sm_acct_number, sm_name, sm_execution_id = re.match(\n",
    "        \"arn:aws:states:([^:]*-[^:]*-[0-9]+):([0-9]{12}):execution:([^:]*):([^:]*)\", executionArn).groups()\n",
    "    execution_URL = f\"https://{sm_region}.console.aws.amazon.com/states/home?region={sm_region}#/executions/details/{executionArn}\"\n",
    "    print(f\"Execution URL {execution_URL}\")\n"
   ]
  },
  {
   "attachments": {},
   "cell_type": "markdown",
   "id": "4b3a073a",
   "metadata": {},
   "source": [
    "#### -----------------------"
   ]
  },
  {
   "attachments": {},
   "cell_type": "markdown",
   "id": "3576da56",
   "metadata": {},
   "source": [
    "# Workflow Execution Schedules"
   ]
  },
  {
   "attachments": {},
   "cell_type": "markdown",
   "id": "03582d31",
   "metadata": {},
   "source": [
    "### Create Workflow Execution Schedule\n",
    "CRON format: https://docs.aws.amazon.com/AmazonCloudWatch/latest/events/ScheduledEvents.html"
   ]
  },
  {
   "cell_type": "code",
   "execution_count": null,
   "id": "4034d346",
   "metadata": {},
   "outputs": [],
   "source": [
    "WORKFLOW_ID = \"test-wfm-1\"\n",
    "#############################################\n",
    "schedule_expression = 'cron(0/15 * * * ? *)'\n",
    "rule_name = 'testrule1'\n",
    "rule_description = 'Testing the workflow schedule creation for WFM'\n",
    "\n",
    "create_execution_schedule_request = {\n",
    "    \"execution_request\": {\n",
    "        \"customerId\": CUSTOMER_ID,\n",
    "        \"requestType\": \"createExecution\",\n",
    "        \"createExecutionRequest\": {\n",
    "            \"timeWindowStart\": \"FIRSTDAYOFOFFSETMONTH(-2)\",\n",
    "            \"timeWindowEnd\": \"FIRSTDAYOFOFFSETMONTH(-1)\",\n",
    "            \"timeWindowType\": \"EXPLICIT\",\n",
    "            \"workflow_executed_date\": \"now()\",\n",
    "            \"timeWindowTimeZone\": \"America/New_York\",\n",
    "            \"workflowId\": WORKFLOW_ID,\n",
    "            \"ignoreDataGaps\": \"True\",\n",
    "            \"workflowExecutionTimeoutSeconds\": \"86400\",\n",
    "            \"parameterValues\": {\n",
    "                \"report_date\": \"now()\"\n",
    "            }\n",
    "        },\n",
    "    },\n",
    "    \"schedule_expression\": schedule_expression,\n",
    "    \"rule_name\": rule_name,\n",
    "    \"rule_description\": rule_description\n",
    "}\n",
    "\n",
    "#############################################\n",
    "# Execute request\n",
    "response = lambda_client.invoke(\n",
    "    FunctionName=create_workflow_schedule_lambda_name,\n",
    "    InvocationType='RequestResponse',\n",
    "    LogType='Tail',\n",
    "    Payload=json.dumps(create_execution_schedule_request).encode('UTF-8')\n",
    ")\n",
    "\n",
    "# Print output\n",
    "response_code = response.get('ResponseMetadata', {}).get('HTTPStatusCode', 0)\n",
    "if response_code in range(200, 204):\n",
    "    rule_URL = f\"https://{os.environ['REGION']}.console.aws.amazon.com/events/home?region={os.environ['REGION']}#/eventbus/default/rules/{os.environ['RULE_PREFIX']}-wfm-{rule_name}\" \n",
    "    print(f\"Event Rule URL {rule_URL}\")"
   ]
  },
  {
   "attachments": {},
   "cell_type": "markdown",
   "id": "acfa04de",
   "metadata": {},
   "source": [
    "### Delete Workflow Execution Schedule"
   ]
  },
  {
   "cell_type": "code",
   "execution_count": null,
   "id": "e19ff4c6",
   "metadata": {},
   "outputs": [],
   "source": [
    "delete_request = {\n",
    "    \"rule_name\": 'testrule1'\n",
    "}\n",
    "\n",
    "#############################################\n",
    "# Execute request\n",
    "response = lambda_client.invoke(\n",
    "    FunctionName=delete_workflow_schedule_lambda_name,\n",
    "    InvocationType='RequestResponse',\n",
    "    LogType='Tail',\n",
    "    Payload=json.dumps(create_execution_schedule_request).encode('UTF-8')\n",
    ")\n",
    "\n",
    "# Print output\n",
    "response_code = response.get('ResponseMetadata', {}).get('HTTPStatusCode', 0)\n",
    "print(response_code)"
   ]
  },
  {
   "attachments": {},
   "cell_type": "markdown",
   "id": "5433c56e",
   "metadata": {},
   "source": [
    "----\n",
    "Copyright Amazon.com, Inc. or its affiliates. All Rights Reserved.\n",
    "\n",
    "SPDX-License-Identifier: Apache-2.0"
   ]
  }
 ],
 "metadata": {
  "kernelspec": {
   "display_name": "amc-insights",
   "language": "python",
   "name": "python3"
  },
  "language_info": {
   "codemirror_mode": {
    "name": "ipython",
    "version": 3
   },
   "file_extension": ".py",
   "mimetype": "text/x-python",
   "name": "python",
   "nbconvert_exporter": "python",
   "pygments_lexer": "ipython3",
   "version": "3.10.3"
  },
  "vscode": {
   "interpreter": {
    "hash": "40ec9b8a0674637d910db8619ba3f1edb1c41b7ab1d9e9c6b03cbee6008de5a1"
   }
  }
 },
 "nbformat": 4,
 "nbformat_minor": 5
}
