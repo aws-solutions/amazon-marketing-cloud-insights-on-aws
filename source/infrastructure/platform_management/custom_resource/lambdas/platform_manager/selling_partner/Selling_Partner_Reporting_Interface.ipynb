{
 "cells": [
  {
   "cell_type": "markdown",
   "metadata": {},
   "source": [
    "Ensure you are using the preinstalled Jupyter kernel `amcinsights`"
   ]
  },
  {
   "cell_type": "markdown",
   "metadata": {},
   "source": [
    "# Selling Partner Reporting\n",
    "Authenticate with Selling Partner Auth before using"
   ]
  },
  {
   "cell_type": "markdown",
   "metadata": {},
   "source": [
    "#### -----------------------\n",
    "## Global Configs\n",
    "Run this cell to initialize the notebook interface"
   ]
  },
  {
   "cell_type": "code",
   "execution_count": null,
   "metadata": {},
   "outputs": [],
   "source": [
    "import json\n",
    "import re\n",
    "import boto3\n",
    "import os\n",
    "from dotenv import load_dotenv\n",
    "load_dotenv()\n",
    "\n",
    "boto3_session = boto3.Session()\n",
    "lambda_client = boto3_session.client('lambda')\n",
    "\n",
    "invoke_reporting_lambda_name = os.environ['INVOKE_SP_REPORT_SM_NAME']\n",
    "schedule_sp_report_lambda_name = os.environ['SCHEDULE_SP_REPORT_NAME']"
   ]
  },
  {
   "cell_type": "code",
   "execution_count": null,
   "metadata": {},
   "outputs": [],
   "source": [
    "# (Optional) If multi-credential secret configured, Auth Id to use for API requests.\n",
    "# If you did not configure your secret for multiple credentials, leave as None.\n",
    "auth_id = None"
   ]
  },
  {
   "cell_type": "markdown",
   "metadata": {},
   "source": [
    "#### -----------------------\n",
    "## Reporting\n",
    "The following cells show how to request a report from the Selling Partner Reporting API. \n",
    "<br />\n",
    "Refer to the [Developer Docs](https://developer-docs.amazon.com/sp-api/docs/welcome) for additional information on how to [structure your requests](https://developer-docs.amazon.com/sp-api/docs/reports-api-v2021-06-30-tutorial-request-a-report), [select the right region](https://developer-docs.amazon.com/sp-api/docs/sp-api-endpoints), or find your [Marketplace Id](https://developer-docs.amazon.com/sp-api/docs/marketplace-ids).\n",
    "<br />\n",
    "<br />\n",
    "To start, initialize the cell below with the `region` you want to submit the report request to.\n",
    "<br />\n",
    "<br />\n",
    "There is also an optional parameter `table_prefix` that can be included. Left out, the data lake will default to using the provided {Region}-{Report Type} as the destination table prefix."
   ]
  },
  {
   "cell_type": "code",
   "execution_count": null,
   "metadata": {},
   "outputs": [],
   "source": [
    "# REQUIRED\n",
    "region = \"North America\"\n",
    "\n",
    "# OPTIONAL\n",
    "table_prefix = \"TestPrefix\""
   ]
  },
  {
   "cell_type": "markdown",
   "metadata": {},
   "source": [
    "### Create Report Request\n"
   ]
  },
  {
   "cell_type": "code",
   "execution_count": null,
   "metadata": {},
   "outputs": [],
   "source": [
    "# REQUIRED\n",
    "request_body = {\n",
    "    \"dataStartTime\": \"2023-12-31\",\n",
    "    \"dataEndTime\": \"2024-01-06\",\n",
    "    \"reportType\": \"GET_BRAND_ANALYTICS_MARKET_BASKET_REPORT\",\n",
    "    \"reportOptions\": {\n",
    "            \"reportPeriod\": \"WEEK\"\n",
    "        },\n",
    "    \"marketplaceIds\": [\n",
    "        \"ATVPDKIKX0DER\"\n",
    "    ]\n",
    "}"
   ]
  },
  {
   "cell_type": "code",
   "execution_count": null,
   "metadata": {},
   "outputs": [],
   "source": [
    "create_report_request = {\n",
    "    \"region\": region,\n",
    "    \"requestBody\": request_body,\n",
    "    \"authId\": auth_id,\n",
    "    \"tablePrefix\": table_prefix\n",
    "}\n",
    "\n",
    "#############################################\n",
    "# Execute request\n",
    "response = lambda_client.invoke(\n",
    "    FunctionName=invoke_reporting_lambda_name,\n",
    "    InvocationType='RequestResponse',\n",
    "    LogType='Tail',\n",
    "    Payload=json.dumps(create_report_request).encode('UTF-8')\n",
    ")\n",
    "\n",
    "# Print output\n",
    "response_code = response.get('ResponseMetadata', {}).get('HTTPStatusCode', 0)\n",
    "if response_code in range(200, 204):\n",
    "    payload_json = json.loads(response.get('Payload').read().decode('UTF-8'))\n",
    "    payload_json = json.loads(payload_json)\n",
    "    executionArn = payload_json.get('executionArn', '')\n",
    "    sm_region, sm_acct_number, sm_name, sm_execution_id = re.match(\n",
    "        \"arn:aws:states:([^:]*-[^:]*-[0-9]+):([0-9]{12}):execution:([^:]*):([^:]*)\", executionArn).groups()\n",
    "    execution_URL = f\"https://{sm_region}.console.aws.amazon.com/states/home?region={sm_region}#/executions/details/{executionArn}\"\n",
    "    print(f\"Execution URL {execution_URL}\")"
   ]
  },
  {
   "cell_type": "markdown",
   "metadata": {},
   "source": [
    "### Schedule Report Request\n",
    "\n",
    "CRON format: https://docs.aws.amazon.com/scheduler/latest/UserGuide/schedule-types.html#cron-based"
   ]
  },
  {
   "cell_type": "code",
   "execution_count": null,
   "metadata": {},
   "outputs": [],
   "source": [
    "# REQUIRED\n",
    "report_request = {\n",
    "    \"requestBody\": {\n",
    "        \"dataStartTime\": \"TODAY(-6)\",\n",
    "        \"dataEndTime\": \"TODAY()\",\n",
    "        \"reportType\": \"GET_BRAND_ANALYTICS_MARKET_BASKET_REPORT\",\n",
    "        \"reportOptions\": {\n",
    "                \"reportPeriod\": \"WEEK\"\n",
    "            },\n",
    "        \"marketplaceIds\": [\n",
    "            \"ATVPDKIKX0DER\"\n",
    "        ]\n",
    "    },\n",
    "    \"region\": region,\n",
    "    \"authId\": auth_id\n",
    "}\n",
    "schedule_expression = \"cron(0 23 ? * 7 *)\"\n",
    "rule_name = \"testrule\"\n",
    "\n",
    "# OPTIONAL\n",
    "rule_description = \"Trigger GET_BRAND_ANALYTICS_MARKET_BASKET_REPORT every Sunday at 11pm\""
   ]
  },
  {
   "cell_type": "code",
   "execution_count": null,
   "metadata": {},
   "outputs": [],
   "source": [
    "create_schedule_request = {\n",
    "    \"report_request\": report_request,\n",
    "    \"schedule_expression\": schedule_expression,\n",
    "    \"rule_name\": rule_name,\n",
    "    \"rule_description\": rule_description\n",
    "}\n",
    "\n",
    "#############################################\n",
    "# Execute request\n",
    "response = lambda_client.invoke(\n",
    "    FunctionName=schedule_sp_report_lambda_name,\n",
    "    InvocationType='RequestResponse',\n",
    "    LogType='Tail',\n",
    "    Payload=json.dumps(create_schedule_request).encode('UTF-8')\n",
    ")\n",
    "\n",
    "# Print output\n",
    "response_code = response.get('ResponseMetadata', {}).get('HTTPStatusCode', 0)\n",
    "if response_code in range(200, 204):\n",
    "    response_message = response.get('Payload').read().decode('UTF-8')\n",
    "    response_message = response_message.strip('\"')\n",
    "    print(f\"Event Rule Url: {response_message}\")"
   ]
  },
  {
   "cell_type": "markdown",
   "metadata": {},
   "source": [
    "----\n",
    "Copyright Amazon.com, Inc. or its affiliates. All Rights Reserved.\n",
    "\n",
    "SPDX-License-Identifier: Apache-2.0"
   ]
  }
 ],
 "metadata": {
  "kernelspec": {
   "display_name": ".venv",
   "language": "python",
   "name": "python3"
  },
  "language_info": {
   "name": "python",
   "version": "3.11.5"
  }
 },
 "nbformat": 4,
 "nbformat_minor": 2
}
