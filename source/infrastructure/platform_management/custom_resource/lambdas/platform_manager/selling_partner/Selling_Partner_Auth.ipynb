{
 "cells": [
  {
   "cell_type": "markdown",
   "metadata": {},
   "source": [
    "Ensure you are using the preinstalled Jupyter kernel `amcinsights`"
   ]
  },
  {
   "cell_type": "markdown",
   "metadata": {},
   "source": [
    "# Selling Partner Authorization\n",
    "The steps in this notebook only need to be followed once in order to authorize your client credentials and store your access tokens. If your client information changes or access is revoked, come back and perform these steps once again."
   ]
  },
  {
   "cell_type": "markdown",
   "metadata": {},
   "source": [
    "1. Follow the [self authorization](https://developer-docs.amazon.com/sp-api/docs/self-authorization) steps to retrieve a refresh token.\n",
    "\n",
    "2. Store your refresh token, client id, and client secret in Secrets Manager in the sellingpartnerSecret. A link to this secret can be found in your Cloudformation stacks Output tab under the key `sellingpartnerSecretsE97D932C`. [Click here](https://docs.aws.amazon.com/secretsmanager/latest/userguide/manage_update-secret-value.html) for instructions on how to update this value"
   ]
  },
  {
   "cell_type": "markdown",
   "metadata": {},
   "source": [
    "----\n",
    "Copyright Amazon.com, Inc. or its affiliates. All Rights Reserved.\n",
    "\n",
    "SPDX-License-Identifier: Apache-2.0"
   ]
  }
 ],
 "metadata": {
  "kernelspec": {
   "display_name": ".venv",
   "language": "python",
   "name": "python3"
  },
  "language_info": {
   "name": "python",
   "version": "3.9.6"
  }
 },
 "nbformat": 4,
 "nbformat_minor": 2
}
