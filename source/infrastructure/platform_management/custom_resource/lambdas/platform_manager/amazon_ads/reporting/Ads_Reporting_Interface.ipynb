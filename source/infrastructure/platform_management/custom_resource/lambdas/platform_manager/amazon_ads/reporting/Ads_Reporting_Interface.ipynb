{
 "cells": [
  {
   "cell_type": "markdown",
   "metadata": {},
   "source": [
    "Ensure you are using the preinstalled Jupyter kernel `amcinsights`"
   ]
  },
  {
   "cell_type": "markdown",
   "metadata": {},
   "source": [
    "# Amazon Ads Reporting\n",
    "Authenticate with Amazon Ads Auth before using"
   ]
  },
  {
   "cell_type": "markdown",
   "metadata": {},
   "source": [
    "#### -----------------------\n",
    "## Global Configs\n",
    "Run this cell to initialize the notebook interface"
   ]
  },
  {
   "cell_type": "code",
   "execution_count": null,
   "metadata": {},
   "outputs": [],
   "source": [
    "import json\n",
    "import re\n",
    "import boto3\n",
    "import os\n",
    "from dotenv import load_dotenv\n",
    "load_dotenv()\n",
    "\n",
    "boto3_session = boto3.Session()\n",
    "lambda_client = boto3_session.client('lambda')\n",
    "\n",
    "invoke_reporting_lambda_name = os.environ['INVOKE_ADS_REPORT_SM_NAME']\n",
    "get_profiles_lambda_name = os.environ['GET_PROFILES_NAME']\n",
    "schedule_ads_report_lambda_name = os.environ['SCHEDULE_ADS_REPORT_NAME']"
   ]
  },
  {
   "cell_type": "code",
   "execution_count": null,
   "metadata": {},
   "outputs": [],
   "source": [
    "# (Optional) If multi-credential secret configured, Auth Id to use for API requests.\n",
    "# If you did not configure your secret for multiple credentials, leave as None.\n",
    "auth_id = None"
   ]
  },
  {
   "cell_type": "markdown",
   "metadata": {},
   "source": [
    "#### -----------------------\n",
    "## Profiles\n",
    "Run this cell to return all your connected profiles in the specified regions"
   ]
  },
  {
   "cell_type": "code",
   "execution_count": null,
   "metadata": {},
   "outputs": [],
   "source": [
    "region_list = [\"North America\", \"Europe\", \"APAC\"]"
   ]
  },
  {
   "cell_type": "code",
   "execution_count": null,
   "metadata": {},
   "outputs": [],
   "source": [
    "get_profiles_request = {\n",
    "    \"region\": region_list,\n",
    "    \"authId\": auth_id\n",
    "}\n",
    "\n",
    "#############################################\n",
    "response = lambda_client.invoke(\n",
    "    FunctionName=get_profiles_lambda_name,\n",
    "    InvocationType='RequestResponse',\n",
    "    LogType='Tail',\n",
    "    Payload=json.dumps(get_profiles_request).encode('UTF-8')\n",
    ")\n",
    "\n",
    "# Print output\n",
    "payload_json = json.loads(response.get('Payload').read().decode('UTF-8'))\n",
    "print(json.dumps(payload_json, indent=4))\n",
    " "
   ]
  },
  {
   "cell_type": "markdown",
   "metadata": {},
   "source": [
    "#### -----------------------\n",
    "## Reporting\n",
    "The following cells show how to request a report from the Amazon Ads Reporting API. \n",
    "<br />\n",
    "Refer to the [API Docs](https://advertising.amazon.com/API/docs/en-us/offline-report-prod-3p#tag/Asynchronous-Reports/operation/createAsyncReport) or [Developer Guide](https://advertising.amazon.com/API/docs/en-us/guides/reporting/overview) for additional information on how to structure your requests.\n",
    "<br />\n",
    "<br />\n",
    "To start, initialize the cell below with the `profile_id` and `region` you want to submit the report request to.\n",
    "<br />\n",
    "<br />\n",
    "There is also an optional parameter `table_name` that can be included. Left out, the data lake will default to using the provided {Profile Id}-{Report Type Id} as the destination table."
   ]
  },
  {
   "cell_type": "code",
   "execution_count": null,
   "metadata": {},
   "outputs": [],
   "source": [
    "# REQUIRED\n",
    "profile_id = \"\"\n",
    "region = \"North America\"\n",
    "\n",
    "# OPTIONAL\n",
    "table_name = \"TestTable\""
   ]
  },
  {
   "cell_type": "markdown",
   "metadata": {},
   "source": [
    "### Create Report Request\n"
   ]
  },
  {
   "cell_type": "code",
   "execution_count": null,
   "metadata": {},
   "outputs": [],
   "source": [
    "# REQUIRED\n",
    "request_body = {\n",
    "    \"startDate\": \"TODAY(-1)\",\n",
    "    \"endDate\": \"TODAY(-1)\",\n",
    "    \"configuration\": {\n",
    "        \"adProduct\": \"SPONSORED_PRODUCTS\",\n",
    "        \"groupBy\": [\"asin\"],\n",
    "        \"columns\": [\n",
    "            \"purchasedAsin\", \n",
    "            \"advertisedAsin\", \n",
    "            \"adGroupName\", \n",
    "            \"campaignName\", \n",
    "            \"sales14d\", \n",
    "            \"campaignId\",\n",
    "            \"adGroupId\", \n",
    "            \"keywordId\", \n",
    "            \"keywordType\", \n",
    "            \"keyword\"\n",
    "        ],\n",
    "        \"reportTypeId\": \"spPurchasedProduct\",\n",
    "        \"timeUnit\": \"SUMMARY\"\n",
    "    }\n",
    "}"
   ]
  },
  {
   "cell_type": "code",
   "execution_count": null,
   "metadata": {},
   "outputs": [],
   "source": [
    "create_report_request = {\n",
    "    \"profileId\": profile_id,\n",
    "    \"region\": region,\n",
    "    \"requestBody\": request_body,\n",
    "    \"authId\": auth_id,\n",
    "    \"tableName\": table_name\n",
    "}\n",
    "\n",
    "#############################################\n",
    "# Execute request\n",
    "response = lambda_client.invoke(\n",
    "    FunctionName=invoke_reporting_lambda_name,\n",
    "    InvocationType='RequestResponse',\n",
    "    LogType='Tail',\n",
    "    Payload=json.dumps(create_report_request).encode('UTF-8')\n",
    ")\n",
    "\n",
    "# Print output\n",
    "response_code = response.get('ResponseMetadata', {}).get('HTTPStatusCode', 0)\n",
    "if response_code in range(200, 204):\n",
    "    payload_json = json.loads(response.get('Payload').read().decode('UTF-8'))\n",
    "    payload_json = json.loads(payload_json)\n",
    "    executionArn = payload_json.get('executionArn', '')\n",
    "    sm_region, sm_acct_number, sm_name, sm_execution_id = re.match(\n",
    "        \"arn:aws:states:([^:]*-[^:]*-[0-9]+):([0-9]{12}):execution:([^:]*):([^:]*)\", executionArn).groups()\n",
    "    execution_URL = f\"https://{sm_region}.console.aws.amazon.com/states/home?region={sm_region}#/executions/details/{executionArn}\"\n",
    "    print(f\"Execution URL {execution_URL}\")"
   ]
  },
  {
   "cell_type": "markdown",
   "metadata": {},
   "source": [
    "### Schedule Report Request\n",
    "\n",
    "CRON format: https://docs.aws.amazon.com/scheduler/latest/UserGuide/schedule-types.html#cron-based"
   ]
  },
  {
   "cell_type": "code",
   "execution_count": null,
   "metadata": {},
   "outputs": [],
   "source": [
    "# REQUIRED\n",
    "report_request = {\n",
    "    \"requestBody\": {\n",
    "        \"startDate\": \"TODAY(-6)\",\n",
    "        \"endDate\": \"TODAY()\",\n",
    "        \"configuration\": {\n",
    "            \"adProduct\": \"SPONSORED_PRODUCTS\",\n",
    "            \"groupBy\": [\"asin\"],\n",
    "            \"columns\": [\n",
    "                \"purchasedAsin\", \n",
    "                \"advertisedAsin\", \n",
    "                \"adGroupName\", \n",
    "                \"campaignName\", \n",
    "                \"sales14d\", \n",
    "                \"campaignId\",\n",
    "                \"adGroupId\", \n",
    "                \"keywordId\", \n",
    "                \"keywordType\", \n",
    "                \"keyword\"\n",
    "            ],\n",
    "            \"reportTypeId\": \"spPurchasedProduct\",\n",
    "            \"timeUnit\": \"SUMMARY\"\n",
    "        }\n",
    "    },\n",
    "    \"tableName\": table_name,\n",
    "    \"profileId\": profile_id,\n",
    "    \"region\": region,\n",
    "    \"authId\": auth_id\n",
    "}\n",
    "schedule_expression = \"cron(0 23 ? * 7 *)\"\n",
    "rule_name = \"testrule\"\n",
    "\n",
    "# OPTIONAL\n",
    "rule_description = \"Trigger spPurchasedProduct every Sunday at 11pm\""
   ]
  },
  {
   "cell_type": "code",
   "execution_count": null,
   "metadata": {},
   "outputs": [],
   "source": [
    "create_schedule_request = {\n",
    "    \"report_request\": report_request,\n",
    "    \"schedule_expression\": schedule_expression,\n",
    "    \"rule_name\": rule_name,\n",
    "    \"rule_description\": rule_description\n",
    "}\n",
    "\n",
    "#############################################\n",
    "# Execute request\n",
    "response = lambda_client.invoke(\n",
    "    FunctionName=schedule_ads_report_lambda_name,\n",
    "    InvocationType='RequestResponse',\n",
    "    LogType='Tail',\n",
    "    Payload=json.dumps(create_schedule_request).encode('UTF-8')\n",
    ")\n",
    "\n",
    "# Print output\n",
    "response_code = response.get('ResponseMetadata', {}).get('HTTPStatusCode', 0)\n",
    "if response_code in range(200, 204):\n",
    "    response_message = response.get('Payload').read().decode('UTF-8')\n",
    "    response_message = response_message.strip('\"')\n",
    "    print(f\"Event Rule Url: {response_message}\")"
   ]
  },
  {
   "cell_type": "markdown",
   "metadata": {},
   "source": [
    "----\n",
    "Copyright Amazon.com, Inc. or its affiliates. All Rights Reserved.\n",
    "\n",
    "SPDX-License-Identifier: Apache-2.0"
   ]
  }
 ],
 "metadata": {
  "language_info": {
   "name": "python"
  }
 },
 "nbformat": 4,
 "nbformat_minor": 2
}
