{
 "cells": [
  {
   "cell_type": "markdown",
   "id": "872ac2ca",
   "metadata": {},
   "source": [
    "Ensure you are using the preinstalled Jupyter kernel `amcinsights`"
   ]
  },
  {
   "attachments": {},
   "cell_type": "markdown",
   "id": "74b242f6",
   "metadata": {},
   "source": [
    "# Tenant Provisioning Service"
   ]
  },
  {
   "attachments": {},
   "cell_type": "markdown",
   "id": "55f10356",
   "metadata": {},
   "source": [
    "Each customer is defined by a single AMC Instance"
   ]
  },
  {
   "cell_type": "markdown",
   "id": "be4a2ec5",
   "metadata": {},
   "source": [
    "#### -----------------------\n",
    "## Global Configs\n",
    "Run this cell to initialize the notebook interface"
   ]
  },
  {
   "cell_type": "code",
   "execution_count": null,
   "id": "f551aa40",
   "metadata": {},
   "outputs": [],
   "source": [
    "import os\n",
    "import time\n",
    "\n",
    "import boto3\n",
    "import re \n",
    "import json\n",
    "from dotenv import load_dotenv\n",
    "load_dotenv()\n",
    "\n",
    "invoke_tps_lambda_name = os.environ[\"INVOKE_TPS_SM_NAME\"]\n",
    "\n",
    "boto3_session = boto3.Session()\n",
    "lambda_client = boto3_session.client('lambda')"
   ]
  },
  {
   "attachments": {},
   "cell_type": "markdown",
   "id": "27a5d26b",
   "metadata": {},
   "source": [
    "#### -----------------------\n",
    "# How to onboard a customer\n",
    "## Customer Information"
   ]
  },
  {
   "cell_type": "code",
   "execution_count": null,
   "id": "cd0b5a1e",
   "metadata": {},
   "outputs": [],
   "source": [
    "customer_id = \"democustomer\"\n",
    "customer_name = \"DemoCustomer\"\n",
    "\n",
    "# (Optional) If multi-credential secret configured, Auth Id to use for API calls made to this instance.\n",
    "# If you did not configure your secret for multiple credentials, leave as None.\n",
    "auth_id = None"
   ]
  },
  {
   "attachments": {},
   "cell_type": "markdown",
   "id": "50805509",
   "metadata": {},
   "source": [
    "## AMC Instance Information"
   ]
  },
  {
   "cell_type": "code",
   "execution_count": null,
   "id": "eea3c9a6",
   "metadata": {},
   "outputs": [],
   "source": [
    "data_upload_account_id = \"<data upload aws account id>\"\n",
    "bucket_name = \"<amc s3 bucket name>\"\n",
    "instance_id = \"<amc instance id>\"\n",
    "amazon_ads_advertiser_id=\"<amazon ads advertiser id>\"\n",
    "amazon_ads_marketplace_id=\"<amazon ads marketplace id>\""
   ]
  },
  {
   "attachments": {},
   "cell_type": "markdown",
   "id": "4cf2fb41",
   "metadata": {},
   "source": [
    "## Select *one* of the patterns below:"
   ]
  },
  {
   "attachments": {},
   "cell_type": "markdown",
   "id": "c91accba",
   "metadata": {},
   "source": [
    "### 1. Bucket does not exist\n",
    "Choose this option if your AMC Instance S3 Bucket does not exist. The application will attempt to deploy it for you in the target region."
   ]
  },
  {
   "cell_type": "code",
   "execution_count": null,
   "id": "9f0638ff",
   "metadata": {},
   "outputs": [],
   "source": [
    "bucket_region = '<region to deploy the s3 bucket>'\n",
    "bucket_exists = \"false\"\n",
    "\n",
    "onboard_customer_request = {\n",
    "    \"customer_details\" : {\n",
    "        \"auth_id\": auth_id,\n",
    "        \"customer_id\": customer_id,\n",
    "        \"customer_name\": customer_name,\n",
    "        \"bucket_region\": bucket_region,\n",
    "        \"bucket_exists\": bucket_exists,\n",
    "        \"amc\": {\n",
    "            \"aws_orange_account_id\": data_upload_account_id,\n",
    "            \"bucket_name\": bucket_name, \n",
    "            \"instance_id\": instance_id,\n",
    "            \"amazon_ads_advertiser_id\": amazon_ads_advertiser_id,\n",
    "            \"amazon_ads_marketplace_id\": amazon_ads_marketplace_id,\n",
    "        }\n",
    "    }\n",
    "}"
   ]
  },
  {
   "attachments": {},
   "cell_type": "markdown",
   "id": "8ef6f4e5",
   "metadata": {},
   "source": [
    "### 2. Bucket exists in the current AWS account\n",
    "Choose this option if your AMC Instance S3 Bucket already exists and is in the same account as this application. This may be from having previously onboarded this customer through AMC Insights already or from using AMC prior to installation of the application."
   ]
  },
  {
   "cell_type": "code",
   "execution_count": null,
   "id": "cb3607d8",
   "metadata": {},
   "outputs": [],
   "source": [
    "bucket_region = '<aws region of the s3 bucket>'\n",
    "bucket_exists = \"true\"\n",
    "\n",
    "onboard_customer_request = {\n",
    "    \"customer_details\" : {\n",
    "        \"auth_id\": auth_id,\n",
    "        \"customer_id\": customer_id,\n",
    "        \"customer_name\": customer_name,\n",
    "        \"bucket_region\": bucket_region,\n",
    "        \"bucket_exists\": bucket_exists,\n",
    "        \"amc\": {\n",
    "            \"aws_orange_account_id\": data_upload_account_id,\n",
    "            \"bucket_name\": bucket_name,\n",
    "            \"instance_id\": instance_id,\n",
    "            \"amazon_ads_advertiser_id\": amazon_ads_advertiser_id,\n",
    "            \"amazon_ads_marketplace_id\": amazon_ads_marketplace_id,\n",
    "        }\n",
    "    }\n",
    "}"
   ]
  },
  {
   "attachments": {},
   "cell_type": "markdown",
   "id": "406f361e",
   "metadata": {},
   "source": [
    "### 3. Bucket exists in a separate AWS account\n",
    "Choose this option if your AMC Instance S3 Bucket already exists but in a different account than this application. Refer to the [Implementation Guide](https://docs.aws.amazon.com/solutions/latest/amazon-marketing-cloud-insights-on-aws/steps-to-enable-cross-account-data-lake-integration.html) for additional steps needed to be taken to enable cross-account integration."
   ]
  },
  {
   "cell_type": "code",
   "execution_count": null,
   "id": "8a8cbc67",
   "metadata": {},
   "outputs": [],
   "source": [
    "bucket_account = '<aws account id of the s3 bucket>'\n",
    "\n",
    "onboard_customer_request = {\n",
    "    \"customer_details\" : {\n",
    "        \"auth_id\": auth_id,\n",
    "        \"customer_id\": customer_id,\n",
    "        \"customer_name\": customer_name,\n",
    "        \"bucket_account\": bucket_account,\n",
    "        \"amc\": {\n",
    "            \"aws_orange_account_id\": data_upload_account_id,\n",
    "            \"bucket_name\": bucket_name,\n",
    "            \"instance_id\": instance_id,\n",
    "            \"amazon_ads_advertiser_id\": amazon_ads_advertiser_id,\n",
    "            \"amazon_ads_marketplace_id\": amazon_ads_marketplace_id,\n",
    "        }\n",
    "    }\n",
    "}"
   ]
  },
  {
   "attachments": {},
   "cell_type": "markdown",
   "id": "b860fb89",
   "metadata": {},
   "source": [
    "## Run the below cell to setup and verify the customer configuration"
   ]
  },
  {
   "cell_type": "code",
   "execution_count": null,
   "id": "62da901f",
   "metadata": {},
   "outputs": [],
   "source": [
    "print(json.dumps(onboard_customer_request, indent=4))"
   ]
  },
  {
   "attachments": {},
   "cell_type": "markdown",
   "id": "fe400de3",
   "metadata": {},
   "source": [
    "### Run the below cell to submit the customer configuration. \n",
    "#### Before submitting verify the configuration by running the above cell"
   ]
  },
  {
   "cell_type": "code",
   "execution_count": null,
   "id": "bc6d3b1a",
   "metadata": {},
   "outputs": [],
   "source": [
    "response = lambda_client.invoke(\n",
    "    FunctionName=invoke_tps_lambda_name,\n",
    "    InvocationType='RequestResponse',\n",
    "    LogType='Tail',\n",
    "    Payload=json.dumps(onboard_customer_request).encode('UTF-8'),\n",
    ")\n",
    "\n",
    "response_code = response.get('ResponseMetadata', {}).get('HTTPStatusCode', 0)\n",
    "if response_code in range(200, 204):\n",
    "    payload_json = json.loads(response.get('Payload').read().decode('UTF-8'))\n",
    "    payload_json = json.loads(payload_json)\n",
    "    executionArn = payload_json.get('executionArn', '')\n",
    "    sm_region, sm_acct_number, sm_name, sm_execution_id = re.match(\n",
    "        \"arn:aws:states:([^:]*-[^:]*-[0-9]+):([0-9]{12}):execution:([^:]*):([^:]*)\", executionArn).groups()\n",
    "    execution_URL = f\"https://{sm_region}.console.aws.amazon.com/states/home?region={sm_region}#/executions/details/{executionArn}\"\n",
    "    print(f\"Execution URL {execution_URL}\")"
   ]
  },
  {
   "attachments": {},
   "cell_type": "markdown",
   "id": "2186e9f2",
   "metadata": {},
   "source": [
    "#### -----------------------\n",
    "# Onboard multiple customers\n",
    "The code below demonstrates how you can pass multiple customer configurations in a single list. Each customer will be onboarded separately."
   ]
  },
  {
   "cell_type": "code",
   "execution_count": null,
   "id": "ff83b723",
   "metadata": {},
   "outputs": [],
   "source": [
    "customer_list = [\n",
    "    # same-account existing bucket\n",
    "    {\n",
    "        \"customer_details\" : {\n",
    "            \"customer_id\": \"customer_1\",\n",
    "            \"customer_name\": \"customer_name_1\",\n",
    "            \"bucket_region\": \"us-east-1\",\n",
    "            \"bucket_exists\": \"true\",\n",
    "            \"amc\": {\n",
    "                \"aws_orange_account_id\": \"1111111111\",\n",
    "                \"bucket_name\": \"amc-customer-1\",\n",
    "                \"instance_id\": \"333333333\",\n",
    "                \"amazon_ads_advertiser_id\": \"ENTITYASDFGHHJK\",\n",
    "                \"amazon_ads_marketplace_id\": \"QWERTYUOPN\",\n",
    "            }\n",
    "        }\n",
    "    },\n",
    "    # same-account nonexisting bucket\n",
    "    {\n",
    "        \"customer_details\" : {\n",
    "            \"customer_id\": \"customer_2\",\n",
    "            \"customer_name\": \"customer_name_2\",\n",
    "            \"bucket_region\": \"eu-west-1\",\n",
    "            \"bucket_exists\": \"false\",\n",
    "            \"amc\": {\n",
    "                \"aws_orange_account_id\": \"9999999999\",\n",
    "                \"bucket_name\": \"amc-customer-2\",\n",
    "                \"instance_id\": \"333333333\",\n",
    "                \"amazon_ads_advertiser_id\": \"ENTITYASDFGHHJK\",\n",
    "                \"amazon_ads_marketplace_id\": \"QWERTYUOPN\",\n",
    "            }\n",
    "        }\n",
    "    },\n",
    "    # cross-account existing bucket\n",
    "    {\n",
    "        \"customer_details\" : {\n",
    "            \"customer_id\": \"customer_3\",\n",
    "            \"customer_name\": \"customer_name_3\",\n",
    "            \"bucket_account\": \"44444444444\",\n",
    "            \"amc\": {\n",
    "                \"aws_orange_account_id\": \"9999999999\",\n",
    "                \"bucket_name\": \"amc-customer-3\",\n",
    "                \"instance_id\": \"333333333\",\n",
    "                \"amazon_ads_advertiser_id\": \"ENTITYASDFGHHJK\",\n",
    "                \"amazon_ads_marketplace_id\": \"QWERTYUOPN\",\n",
    "            }\n",
    "        }\n",
    "    }\n",
    "]"
   ]
  },
  {
   "cell_type": "code",
   "execution_count": null,
   "id": "d6b195ee",
   "metadata": {},
   "outputs": [],
   "source": [
    "for onboard_customer_request in customer_list:\n",
    "    time.sleep(10) # Customers should not be onboarded at the same time. Add a waiting time before onboarding the next customer.\n",
    "    customer_id = onboard_customer_request['customer_details']['customer_id']\n",
    "    try:\n",
    "        response = lambda_client.invoke(\n",
    "            FunctionName=invoke_tps_lambda_name,\n",
    "            InvocationType='RequestResponse',\n",
    "            LogType='Tail',\n",
    "            Payload=json.dumps(onboard_customer_request).encode('UTF-8'),\n",
    "        )\n",
    "\n",
    "        response_code = response.get('ResponseMetadata', {}).get('HTTPStatusCode', 0)\n",
    "        if response_code in range(200, 204):\n",
    "            payload_json = json.loads(response.get('Payload').read().decode('UTF-8'))\n",
    "            payload_json = json.loads(payload_json)\n",
    "            executionArn = payload_json.get('executionArn', '')\n",
    "            sm_region, sm_acct_number, sm_name, sm_execution_id = re.match(\n",
    "                \"arn:aws:states:([^:]*-[^:]*-[0-9]+):([0-9]{12}):execution:([^:]*):([^:]*)\", executionArn).groups()\n",
    "            execution_URL = f\"https://{sm_region}.console.aws.amazon.com/states/home?region={sm_region}#/executions/details/{executionArn}\"\n",
    "            print(f\"Execution URL for customer {customer_id}: {execution_URL}\")\n",
    "    except Exception as e:\n",
    "        print(f'Unable to submit onboard request for customer {customer_id}. Please wait and retry again.')"
   ]
  },
  {
   "attachments": {},
   "cell_type": "markdown",
   "id": "335108b3",
   "metadata": {},
   "source": [
    "----\n",
    "Copyright Amazon.com, Inc. or its affiliates. All Rights Reserved.\n",
    "\n",
    "SPDX-License-Identifier: Apache-2.0"
   ]
  }
 ],
 "metadata": {
  "kernelspec": {
   "display_name": "amc-insights",
   "language": "python",
   "name": "python3"
  },
  "language_info": {
   "codemirror_mode": {
    "name": "ipython",
    "version": 3
   },
   "file_extension": ".py",
   "mimetype": "text/x-python",
   "name": "python",
   "nbconvert_exporter": "python",
   "pygments_lexer": "ipython3",
   "version": "3.10.3"
  },
  "vscode": {
   "interpreter": {
    "hash": "40ec9b8a0674637d910db8619ba3f1edb1c41b7ab1d9e9c6b03cbee6008de5a1"
   }
  }
 },
 "nbformat": 4,
 "nbformat_minor": 5
}
