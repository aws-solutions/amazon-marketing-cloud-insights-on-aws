{
 "cells": [
  {
   "cell_type": "markdown",
   "id": "49185d90",
   "metadata": {},
   "source": [
    "Ensure you are using the preinstalled Jupyter kernel `amcinsights`"
   ]
  },
  {
   "attachments": {},
   "cell_type": "markdown",
   "id": "daccdec6",
   "metadata": {},
   "source": [
    "# Workflow Management Service"
   ]
  },
  {
   "attachments": {},
   "cell_type": "markdown",
   "id": "bba31683",
   "metadata": {},
   "source": [
    "Set up a customer in the TPS Interface and authenticate with Amazon Ads Auth before using"
   ]
  },
  {
   "attachments": {},
   "cell_type": "markdown",
   "id": "d837971a",
   "metadata": {},
   "source": [
    "#### -----------------------\n",
    "## Global Configs\n",
    "Run this cell to initialize the notebook interface"
   ]
  },
  {
   "cell_type": "code",
   "execution_count": 14,
   "id": "89b6a781",
   "metadata": {},
   "outputs": [],
   "source": [
    "import json\n",
    "import re\n",
    "import boto3\n",
    "import os\n",
    "from dotenv import load_dotenv\n",
    "load_dotenv()\n",
    "\n",
    "invoke_workflow_lambda_name = os.environ['INVOKE_WORKFLOW_SM_NAME']\n",
    "invoke_workflow_executions_lambda_name = os.environ['INVOKE_WORKFLOW_EXECUTION_SM_NAME']\n",
    "create_workflow_schedule_lambda_name = os.environ['CREATE_WORKFLOW_SCHEDULE_NAME']\n",
    "delete_workflow_schedule_lambda_name = os.environ['DELETE_WORKFLOW_SCHEDULE_NAME']\n",
    "\n",
    "boto3_session = boto3.Session()\n",
    "lambda_client = boto3_session.client('lambda')"
   ]
  },
  {
   "cell_type": "markdown",
   "id": "4665aa68",
   "metadata": {},
   "source": [
    "#### -----------------------\n",
    "## Customer Id\n",
    "Edit the value below with the Customer Id you want to submit requests for"
   ]
  },
  {
   "cell_type": "code",
   "execution_count": null,
   "id": "c9c5868d",
   "metadata": {},
   "outputs": [],
   "source": [
    "CUSTOMER_ID = \"democustomer\""
   ]
  },
  {
   "cell_type": "markdown",
   "id": "e5c14a06",
   "metadata": {},
   "source": [
    "#### -----------------------\n",
    "# Workflow Requests\n",
    "The examples below show how you can use the Workflow Management Service to interact with the application and Amazon Marketing Cloud API.\n",
    "\n",
    "For each request type, the top cell shows the parameters you can update while the bottom cell will run the request and return a link."
   ]
  },
  {
   "attachments": {},
   "cell_type": "markdown",
   "id": "bafeed0a",
   "metadata": {},
   "source": [
    "### Create Workflow"
   ]
  },
  {
   "cell_type": "code",
   "execution_count": null,
   "id": "7e214cea",
   "metadata": {},
   "outputs": [],
   "source": [
    "workflow_definition = {\n",
    "    \"workflowId\": \"test-wfm-1\",\n",
    "    \"filteredMetricsDiscriminatorColumn\": \"filtered\",\n",
    "    \"inputParameters\": [\n",
    "        {\n",
    "            \"columnType\": \"DIMENSION\",\n",
    "            \"dataType\": \"STRING\",\n",
    "            \"defaultValue\": \"None\",\n",
    "            \"description\": \"The date and time that the report was run\",\n",
    "            \"name\": \"report_date\"\n",
    "        }\n",
    "    ],\n",
    "    \"sqlQuery\": \"\"\"\n",
    "        SELECT\n",
    "            CUSTOM_PARAMETER('report_date'),\n",
    "            advertiser,\n",
    "            campaign,\n",
    "            (CASE \n",
    "                WHEN SECONDS_BETWEEN (impression_dt, conversion_event_dt) <= 60 THEN '1 | < 1 MIN'\n",
    "                WHEN SECONDS_BETWEEN (impression_dt,conversion_event_dt) <= 600 THEN '2 | 1 - 10 MIN'\n",
    "                WHEN SECONDS_BETWEEN (impression_dt, conversion_event_dt) <= 1800 THEN '3 | 10 - 30 MIN'\n",
    "                WHEN SECONDS_BETWEEN (impression_dt, conversion_event_dt) <= 3600 THEN '4 | 30 - 60 MIN'\n",
    "                WHEN SECONDS_BETWEEN (impression_dt, conversion_event_dt) <= 7200 THEN '5 | 1 - 2 HRS'\n",
    "                WHEN SECONDS_BETWEEN (impression_dt, conversion_event_dt) <= 43200 THEN '6 | 2 - 12 HRS'\n",
    "                WHEN SECONDS_BETWEEN (impression_dt, conversion_event_dt) <= 86400 THEN '7 | 12 - 24 HRS'\n",
    "                WHEN SECONDS_BETWEEN (impression_dt, conversion_event_dt) <= 604800 THEN '8 | 1 - 7 DAYS'\n",
    "                ELSE '9 | 7+ DAYS'\n",
    "            END) AS time_to_conversion,\n",
    "            SUM(purchases) AS purchases,\n",
    "            SUM(total_purchases) AS total_brand_purchases\n",
    "    FROM\n",
    "        amazon_attributed_events_by_conversion_time\n",
    "    GROUP BY\n",
    "        1,\n",
    "        2,\n",
    "        3,\n",
    "        4\n",
    "    \"\"\"\n",
    "}"
   ]
  },
  {
   "cell_type": "code",
   "execution_count": null,
   "id": "06c4b052",
   "metadata": {},
   "outputs": [],
   "source": [
    "create_workflow_request = {\n",
    "    \"customerId\": CUSTOMER_ID,\n",
    "    \"workflowRequest\": {\n",
    "        \"customerId\": CUSTOMER_ID,\n",
    "        \"requestType\": \"createWorkflow\",\n",
    "        \"workflowDefinition\": workflow_definition\n",
    "    }\n",
    "}\n",
    "\n",
    "#############################################\n",
    "# Execute request\n",
    "response = lambda_client.invoke(\n",
    "    FunctionName=invoke_workflow_lambda_name,\n",
    "    InvocationType='RequestResponse',\n",
    "    LogType='Tail',\n",
    "    Payload=json.dumps(create_workflow_request).encode('UTF-8')\n",
    ")\n",
    "\n",
    "# Print output\n",
    "response_code = response.get('ResponseMetadata', {}).get('HTTPStatusCode', 0)\n",
    "if response_code in range(200, 204):\n",
    "    payload_json = json.loads(response.get('Payload').read().decode('UTF-8'))\n",
    "    payload_json = json.loads(payload_json)\n",
    "    executionArn = payload_json.get('executionArn', '')\n",
    "    sm_region, sm_acct_number, sm_name, sm_execution_id = re.match(\n",
    "        \"arn:aws:states:([^:]*-[^:]*-[0-9]+):([0-9]{12}):execution:([^:]*):([^:]*)\", executionArn).groups()\n",
    "    execution_URL = f\"https://{sm_region}.console.aws.amazon.com/states/home?region={sm_region}#/executions/details/{executionArn}\"\n",
    "    print(f\"Execution URL {execution_URL}\")"
   ]
  },
  {
   "attachments": {},
   "cell_type": "markdown",
   "id": "fdcb7c6c",
   "metadata": {},
   "source": [
    "### Update Workflow"
   ]
  },
  {
   "cell_type": "code",
   "execution_count": null,
   "id": "7b119631",
   "metadata": {},
   "outputs": [],
   "source": [
    "workflow_definition = {\n",
    "    \"workflowId\": \"test-wfm-1\",\n",
    "    \"filteredMetricsDiscriminatorColumn\": \"filtered\",\n",
    "    \"sqlQuery\": \"\"\"\n",
    "        SELECT\n",
    "            advertiser,\n",
    "            campaign,\n",
    "            (CASE \n",
    "                WHEN SECONDS_BETWEEN (impression_dt, conversion_event_dt) <= 60 THEN '1 | < 1 MIN'\n",
    "                WHEN SECONDS_BETWEEN (impression_dt,conversion_event_dt) <= 600 THEN '2 | 1 - 10 MIN'\n",
    "                WHEN SECONDS_BETWEEN (impression_dt, conversion_event_dt) <= 1800 THEN '3 | 10 - 30 MIN'\n",
    "                WHEN SECONDS_BETWEEN (impression_dt, conversion_event_dt) <= 3600 THEN '4 | 30 - 60 MIN'\n",
    "                WHEN SECONDS_BETWEEN (impression_dt, conversion_event_dt) <= 7200 THEN '5 | 1 - 2 HRS'\n",
    "                WHEN SECONDS_BETWEEN (impression_dt, conversion_event_dt) <= 43200 THEN '6 | 2 - 12 HRS'\n",
    "                WHEN SECONDS_BETWEEN (impression_dt, conversion_event_dt) <= 86400 THEN '7 | 12 - 24 HRS'\n",
    "                WHEN SECONDS_BETWEEN (impression_dt, conversion_event_dt) <= 604800 THEN '8 | 1 - 7 DAYS'\n",
    "                ELSE '9 | 7+ DAYS'\n",
    "            END) AS time_to_conversion,\n",
    "            SUM(purchases) AS purchases,\n",
    "            SUM(total_purchases) AS total_brand_purchases\n",
    "    FROM\n",
    "        amazon_attributed_events_by_conversion_time\n",
    "    GROUP BY\n",
    "        1,\n",
    "        2,\n",
    "        3\n",
    "    \"\"\"\n",
    "}\n",
    "    "
   ]
  },
  {
   "cell_type": "code",
   "execution_count": null,
   "id": "b08131ad",
   "metadata": {},
   "outputs": [],
   "source": [
    "update_workflow_request = {\n",
    "    \"customerId\": CUSTOMER_ID,\n",
    "    \"workflowRequest\": {\n",
    "        \"customerId\": CUSTOMER_ID,\n",
    "        \"requestType\": \"updateWorkflow\",\n",
    "        \"workflowDefinition\": workflow_definition\n",
    "    }\n",
    "}\n",
    "\n",
    "#############################################\n",
    "# Execute request\n",
    "response = lambda_client.invoke(\n",
    "    FunctionName=invoke_workflow_lambda_name,\n",
    "    InvocationType='RequestResponse',\n",
    "    LogType='Tail',\n",
    "    Payload=json.dumps(update_workflow_request).encode('UTF-8'),\n",
    ")\n",
    "\n",
    "# Print output\n",
    "response_code = response.get('ResponseMetadata', {}).get('HTTPStatusCode', 0)\n",
    "if response_code in range(200, 204):\n",
    "    payload_json = json.loads(response.get('Payload').read().decode('UTF-8'))\n",
    "    payload_json = json.loads(payload_json)\n",
    "    executionArn = payload_json.get('executionArn', '')\n",
    "    sm_region, sm_acct_number, sm_name, sm_execution_id = re.match(\n",
    "        \"arn:aws:states:([^:]*-[^:]*-[0-9]+):([0-9]{12}):execution:([^:]*):([^:]*)\", executionArn).groups()\n",
    "    execution_URL = f\"https://{sm_region}.console.aws.amazon.com/states/home?region={sm_region}#/executions/details/{executionArn}\"\n",
    "    print(f\"Execution URL {execution_URL}\")"
   ]
  },
  {
   "attachments": {},
   "cell_type": "markdown",
   "id": "6b6efaad",
   "metadata": {},
   "source": [
    "### Get Workflow"
   ]
  },
  {
   "cell_type": "code",
   "execution_count": null,
   "id": "36556f9a",
   "metadata": {},
   "outputs": [],
   "source": [
    "workflow_id = \"test-wfm-1\""
   ]
  },
  {
   "cell_type": "code",
   "execution_count": null,
   "id": "44a97bbb",
   "metadata": {},
   "outputs": [],
   "source": [
    "get_workflow_request = {\n",
    "    \"customerId\": CUSTOMER_ID,\n",
    "    \"workflowRequest\": {\n",
    "        \"customerId\": CUSTOMER_ID,\n",
    "        \"requestType\": \"getWorkflow\",\n",
    "        \"workflowId\": workflow_id\n",
    "    }\n",
    "}\n",
    "\n",
    "#############################################\n",
    "# Execute request\n",
    "response = lambda_client.invoke(\n",
    "    FunctionName=invoke_workflow_lambda_name,\n",
    "    InvocationType='RequestResponse',\n",
    "    LogType='Tail',\n",
    "    Payload=json.dumps(get_workflow_request).encode('UTF-8')\n",
    ")\n",
    "\n",
    "# Print output\n",
    "response_code = response.get('ResponseMetadata', {}).get('HTTPStatusCode', 0)\n",
    "if response_code in range(200, 204):\n",
    "    payload_json = json.loads(response.get('Payload').read().decode('UTF-8'))\n",
    "    payload_json = json.loads(payload_json)\n",
    "    executionArn = payload_json.get('executionArn', '')\n",
    "    sm_region, sm_acct_number, sm_name, sm_execution_id = re.match(\n",
    "        \"arn:aws:states:([^:]*-[^:]*-[0-9]+):([0-9]{12}):execution:([^:]*):([^:]*)\", executionArn).groups()\n",
    "    execution_URL = f\"https://{sm_region}.console.aws.amazon.com/states/home?region={sm_region}#/executions/details/{executionArn}\"\n",
    "    print(f\"Execution URL {execution_URL}\")\n"
   ]
  },
  {
   "attachments": {},
   "cell_type": "markdown",
   "id": "29d2e86e",
   "metadata": {},
   "source": [
    "### Delete Workflow"
   ]
  },
  {
   "cell_type": "code",
   "execution_count": null,
   "id": "7f7265b7",
   "metadata": {},
   "outputs": [],
   "source": [
    "workflow_id = \"test-wfm-1\""
   ]
  },
  {
   "cell_type": "code",
   "execution_count": null,
   "id": "53e3752c",
   "metadata": {},
   "outputs": [],
   "source": [
    "delete_workflow_request = {\n",
    "    \"customerId\": CUSTOMER_ID,\n",
    "    \"workflowRequest\": {\n",
    "        \"customerId\": CUSTOMER_ID,\n",
    "        \"requestType\": \"deleteWorkflow\",\n",
    "        \"workflowId\": workflow_id\n",
    "    }\n",
    "}\n",
    "\n",
    "#############################################\n",
    "# Execute request\n",
    "response = lambda_client.invoke(\n",
    "    FunctionName=invoke_workflow_lambda_name,\n",
    "    InvocationType='RequestResponse',\n",
    "    LogType='Tail',\n",
    "    Payload=json.dumps(delete_workflow_request).encode('UTF-8')\n",
    ")\n",
    "\n",
    "# Print output\n",
    "response_code = response.get('ResponseMetadata', {}).get('HTTPStatusCode', 0)\n",
    "if response_code in range(200, 204):\n",
    "    payload_json = json.loads(response.get('Payload').read().decode('UTF-8'))\n",
    "    payload_json = json.loads(payload_json)\n",
    "    executionArn = payload_json.get('executionArn', '')\n",
    "    sm_region, sm_acct_number, sm_name, sm_execution_id = re.match(\n",
    "        \"arn:aws:states:([^:]*-[^:]*-[0-9]+):([0-9]{12}):execution:([^:]*):([^:]*)\", executionArn).groups()\n",
    "    execution_URL = f\"https://{sm_region}.console.aws.amazon.com/states/home?region={sm_region}#/executions/details/{executionArn}\"\n",
    "    print(f\"Execution URL {execution_URL}\")"
   ]
  },
  {
   "attachments": {},
   "cell_type": "markdown",
   "id": "118bfd91",
   "metadata": {},
   "source": [
    "#### -----------------------"
   ]
  },
  {
   "cell_type": "markdown",
   "id": "5acff7bd",
   "metadata": {},
   "source": [
    "# Workflow Execution Requests"
   ]
  },
  {
   "attachments": {},
   "cell_type": "markdown",
   "id": "841f3257",
   "metadata": {},
   "source": [
    "### Invoke Workflow Execution\n",
    "\n",
    "Workflows can be executed on saved or adhoc workflows. Below is an example of executing an adhoc workflow."
   ]
  },
  {
   "cell_type": "code",
   "execution_count": null,
   "id": "18fbe32f",
   "metadata": {},
   "outputs": [],
   "source": [
    "adhoc_execution_body = {\n",
    "    \"workflow\": {\n",
    "        \"workflowId\": \"adhoc-test-1\",\n",
    "        \"sqlQuery\": \"\"\"\n",
    "            SELECT \n",
    "                advertiser, \n",
    "                campaign, \n",
    "                sum(total_cost) as spend, \n",
    "                sum(impressions) as impressions, \n",
    "                count(DISTINCT user_id) as reach \n",
    "            FROM dsp_impressions \n",
    "            GROUP BY \n",
    "                advertiser, \n",
    "                campaign\n",
    "        \"\"\"\n",
    "    },\n",
    "    \"timeWindowType\": \"MOST_RECENT_WEEK\"\n",
    "}"
   ]
  },
  {
   "cell_type": "code",
   "execution_count": null,
   "id": "41e733eb",
   "metadata": {},
   "outputs": [],
   "source": [
    "create_execution_request = {\n",
    "    \"customerId\": CUSTOMER_ID,\n",
    "    \"requestType\": \"createExecution\",\n",
    "    \"createExecutionRequest\": adhoc_execution_body\n",
    "}\n",
    "\n",
    "#############################################\n",
    "# Execute request\n",
    "response = lambda_client.invoke(\n",
    "    FunctionName=invoke_workflow_executions_lambda_name,\n",
    "    InvocationType='RequestResponse',\n",
    "    LogType='Tail',\n",
    "    Payload=json.dumps(create_execution_request).encode('UTF-8')\n",
    ")\n",
    "\n",
    "# Print output\n",
    "response_code = response.get('ResponseMetadata', {}).get('HTTPStatusCode', 0)\n",
    "if response_code in range(200, 204):\n",
    "    payload_json = json.loads(response.get('Payload').read().decode('UTF-8'))\n",
    "    payload_json = json.loads(payload_json)\n",
    "    executionArn = payload_json.get('executionArn', '')\n",
    "    sm_region, sm_acct_number, sm_name, sm_execution_id = re.match(\n",
    "        \"arn:aws:states:([^:]*-[^:]*-[0-9]+):([0-9]{12}):execution:([^:]*):([^:]*)\", executionArn).groups()\n",
    "    execution_URL = f\"https://{sm_region}.console.aws.amazon.com/states/home?region={sm_region}#/executions/details/{executionArn}\"\n",
    "    print(f\"Execution URL {execution_URL}\")"
   ]
  },
  {
   "attachments": {},
   "cell_type": "markdown",
   "id": "529da881",
   "metadata": {},
   "source": [
    "### Cancel Workflow Execution"
   ]
  },
  {
   "cell_type": "code",
   "execution_count": null,
   "id": "c703e3db",
   "metadata": {},
   "outputs": [],
   "source": [
    "# this value can be found in the Workflow Executions table\n",
    "workflow_execution_id = \"7d29a430-6a8a-4dbc-9148-04bfcb58c99c\""
   ]
  },
  {
   "cell_type": "code",
   "execution_count": null,
   "id": "2f9041c3",
   "metadata": {},
   "outputs": [],
   "source": [
    "cancel_execution_request = {\n",
    "    \"customerId\": CUSTOMER_ID,\n",
    "    \"requestType\": \"cancelExecution\",\n",
    "    \"workflowExecutionId\": workflow_execution_id\n",
    "}\n",
    "\n",
    "#############################################\n",
    "# Execute request\n",
    "response = lambda_client.invoke(\n",
    "    FunctionName=invoke_workflow_executions_lambda_name,\n",
    "    InvocationType='RequestResponse',\n",
    "    LogType='Tail',\n",
    "    Payload=json.dumps(cancel_execution_request).encode('UTF-8')\n",
    ")\n",
    "\n",
    "# Print output\n",
    "response_code = response.get('ResponseMetadata', {}).get('HTTPStatusCode', 0)\n",
    "if response_code in range(200, 204):\n",
    "    payload_json = json.loads(response.get('Payload').read().decode('UTF-8'))\n",
    "    payload_json = json.loads(payload_json)\n",
    "    executionArn = payload_json.get('executionArn', '')\n",
    "    sm_region, sm_acct_number, sm_name, sm_execution_id = re.match(\n",
    "        \"arn:aws:states:([^:]*-[^:]*-[0-9]+):([0-9]{12}):execution:([^:]*):([^:]*)\", executionArn).groups()\n",
    "    execution_URL = f\"https://{sm_region}.console.aws.amazon.com/states/home?region={sm_region}#/executions/details/{executionArn}\"\n",
    "    print(f\"Execution URL {execution_URL}\")\n"
   ]
  },
  {
   "attachments": {},
   "cell_type": "markdown",
   "id": "4b3a073a",
   "metadata": {},
   "source": [
    "#### -----------------------"
   ]
  },
  {
   "attachments": {},
   "cell_type": "markdown",
   "id": "3576da56",
   "metadata": {},
   "source": [
    "# Workflow Execution Schedules"
   ]
  },
  {
   "attachments": {},
   "cell_type": "markdown",
   "id": "03582d31",
   "metadata": {},
   "source": [
    "### Create Workflow Execution Schedule\n",
    "CRON format: https://docs.aws.amazon.com/scheduler/latest/UserGuide/schedule-types.html#cron-based\n",
    "\n",
    "Similar to creating workflow execution requests, scheduled workflows will execute any stored payload and can be set for adhoc or saved workflows. Below is an example of setting a schedule for the saved workflow created earlier in the notebook"
   ]
  },
  {
   "cell_type": "code",
   "execution_count": null,
   "id": "85e73935",
   "metadata": {},
   "outputs": [],
   "source": [
    "saved_execution_body= {\n",
    "    \"workflowId\": \"test-wfm-1\",\n",
    "    \"timeWindowStart\": \"FIRSTDAYOFOFFSETMONTH(-2)\",\n",
    "    \"timeWindowEnd\": \"FIRSTDAYOFOFFSETMONTH(-1)\",\n",
    "    \"timeWindowType\": \"EXPLICIT\",\n",
    "    \"workflow_executed_date\": \"now()\",\n",
    "    \"timeWindowTimeZone\": \"America/New_York\",\n",
    "    \"requireSyntheticData\": False,\n",
    "    \"ignoreDataGaps\": \"True\",\n",
    "    \"workflowExecutionTimeoutSeconds\": \"86400\",\n",
    "    \"parameterValues\": {\n",
    "        \"report_date\": \"now()\"\n",
    "    }\n",
    "}\n",
    "\n",
    "# additional parameters needed to set the schedule\n",
    "schedule_expression = 'cron(0/15 * * * ? *)'\n",
    "rule_name = 'testrule1'\n",
    "rule_description = 'Testing the workflow schedule creation'"
   ]
  },
  {
   "cell_type": "code",
   "execution_count": null,
   "id": "4034d346",
   "metadata": {},
   "outputs": [],
   "source": [
    "create_execution_schedule_request = {\n",
    "    \"execution_request\": {\n",
    "        \"customerId\": CUSTOMER_ID,\n",
    "        \"requestType\": \"createExecution\",\n",
    "        \"createExecutionRequest\": saved_execution_body\n",
    "    },\n",
    "    \"schedule_expression\": schedule_expression,\n",
    "    \"rule_name\": rule_name,\n",
    "    \"rule_description\": rule_description\n",
    "}\n",
    "\n",
    "#############################################\n",
    "# Execute request\n",
    "response = lambda_client.invoke(\n",
    "    FunctionName=create_workflow_schedule_lambda_name,\n",
    "    InvocationType='RequestResponse',\n",
    "    LogType='Tail',\n",
    "    Payload=json.dumps(create_execution_schedule_request).encode('UTF-8')\n",
    ")\n",
    "\n",
    "# Print output\n",
    "response_code = response.get('ResponseMetadata', {}).get('HTTPStatusCode', 0)\n",
    "if response_code in range(200, 204):\n",
    "    rule_URL = f\"https://{os.environ['REGION']}.console.aws.amazon.com/events/home?region={os.environ['REGION']}#/eventbus/default/rules/{os.environ['RULE_PREFIX']}-wfm-{rule_name}\" \n",
    "    print(f\"Event Rule URL {rule_URL}\")"
   ]
  },
  {
   "attachments": {},
   "cell_type": "markdown",
   "id": "acfa04de",
   "metadata": {},
   "source": [
    "### Delete Workflow Execution Schedule"
   ]
  },
  {
   "cell_type": "code",
   "execution_count": null,
   "id": "7d231771",
   "metadata": {},
   "outputs": [],
   "source": [
    "delete_schedule_request = {\n",
    "    'rule_name': 'testrule1'\n",
    "}"
   ]
  },
  {
   "cell_type": "code",
   "execution_count": null,
   "id": "e19ff4c6",
   "metadata": {},
   "outputs": [],
   "source": [
    "#############################################\n",
    "# Execute request\n",
    "response = lambda_client.invoke(\n",
    "    FunctionName=delete_workflow_schedule_lambda_name,\n",
    "    InvocationType='RequestResponse',\n",
    "    LogType='Tail',\n",
    "    Payload=json.dumps(delete_schedule_request).encode('UTF-8')\n",
    ")\n",
    "\n",
    "# Print output\n",
    "response_code = response.get('ResponseMetadata', {}).get('HTTPStatusCode', 0)\n",
    "if response_code in range(200, 204):\n",
    "    function_url = f\"https://{os.environ['REGION']}.console.aws.amazon.com/lambda/home?region={os.environ['REGION']}#/functions/{delete_workflow_schedule_lambda_name}\"\n",
    "    print(f\"Function URL {function_url}\")\n",
    "else:\n",
    "    print(response)"
   ]
  },
  {
   "attachments": {},
   "cell_type": "markdown",
   "id": "5433c56e",
   "metadata": {},
   "source": [
    "----\n",
    "Copyright Amazon.com, Inc. or its affiliates. All Rights Reserved.\n",
    "\n",
    "SPDX-License-Identifier: Apache-2.0"
   ]
  }
 ],
 "metadata": {
  "kernelspec": {
   "display_name": "amc-insights",
   "language": "python",
   "name": "python3"
  },
  "language_info": {
   "codemirror_mode": {
    "name": "ipython",
    "version": 3
   },
   "file_extension": ".py",
   "mimetype": "text/x-python",
   "name": "python",
   "nbconvert_exporter": "python",
   "pygments_lexer": "ipython3",
   "version": "3.10.3"
  },
  "vscode": {
   "interpreter": {
    "hash": "40ec9b8a0674637d910db8619ba3f1edb1c41b7ab1d9e9c6b03cbee6008de5a1"
   }
  }
 },
 "nbformat": 4,
 "nbformat_minor": 5
}
